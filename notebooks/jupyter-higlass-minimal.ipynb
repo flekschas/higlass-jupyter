{
 "cells": [
  {
   "cell_type": "code",
   "execution_count": 1,
   "metadata": {},
   "outputs": [
    {
     "data": {
      "text/html": [
       "<style>\n",
       "@import url(\"https://unpkg.com/higlass@0.10.6/dist/styles/hglib.css\");\n",
       "</style>"
      ],
      "text/plain": [
       "<IPython.core.display.HTML object>"
      ]
     },
     "metadata": {},
     "output_type": "display_data"
    }
   ],
   "source": [
    "%%html\n",
    "<style>\n",
    "@import url(\"https://unpkg.com/higlass@0.10.6/dist/styles/hglib.css\");\n",
    "</style>"
   ]
  },
  {
   "cell_type": "code",
   "execution_count": 2,
   "metadata": {},
   "outputs": [
    {
     "data": {
      "application/javascript": [
       "\n",
       "\"use strict\";\n",
       "\n",
       "require.config({\n",
       "    paths: {\n",
       "        'react': '//cdnjs.cloudflare.com/ajax/libs/react/15.5.4/react',\n",
       "        'react-dom': '//cdnjs.cloudflare.com/ajax/libs/react/15.5.4/react-dom.min',\n",
       "        'react-bootstrap': '//cdnjs.cloudflare.com/ajax/libs/react-bootstrap/0.31.0/react-bootstrap.min',\n",
       "        'pixi': '//cdnjs.cloudflare.com/ajax/libs/pixi.js/4.5.2/pixi.min',\n",
       "        'hglib': '//unpkg.com/higlass@0.10.6/dist/scripts/hglib'\n",
       "    },\n",
       "    map: {\n",
       "        \"*\": {\n",
       "          \"pixi.js\": \"pixi\"\n",
       "        }\n",
       "    }\n",
       "});\n",
       "\n",
       "define('higlass', [\n",
       "    '@jupyter-widgets/base', \n",
       "    'react',\n",
       "    'react-dom', \n",
       "    'react-bootstrap',\n",
       "    'pixi',\n",
       "    'hglib'], function(widgets, react, react_dom, react_bootstrap, pixi, hglib) {\n",
       "\n",
       "    var minimalConfig = {\n",
       "      \"trackSourceServers\": [\n",
       "        \"http://higlass.io/api/v1\"\n",
       "      ],\n",
       "      \"exportViewUrl\": \"http://higlass.io/api/v1/viewconfs\",\n",
       "      \"editable\": true,\n",
       "      \"zoomFixed\": false,\n",
       "      \"views\": [\n",
       "        {\n",
       "          \"layout\": {\n",
       "            \"w\": 12,\n",
       "            \"h\": 6,\n",
       "            \"x\": 0,\n",
       "            \"y\": 0\n",
       "          },\n",
       "          \"initialXDomain\": [\n",
       "            0,\n",
       "            3000000000\n",
       "          ],\n",
       "          \"initialYDomain\": [\n",
       "            0,\n",
       "            3000000000\n",
       "          ],\n",
       "          \"tracks\": {\n",
       "            \"left\": [],\n",
       "            \"right\": [],\n",
       "            \"top\": [],\n",
       "            \"bottom\": []\n",
       "          } \n",
       "        }\n",
       "      ]\n",
       "    };\n",
       "\n",
       "    var HiGlassDisplayModel = widgets.DOMWidgetModel.extend({\n",
       "        defaults: _.extend(_.result(this, 'widgets.DOMWidgetModel.prototype.defaults'), {\n",
       "            _model_name : 'HiGlassDisplayModel',\n",
       "            _view_name : 'HiGlassDisplayView',\n",
       "            _model_module : 'higlass',\n",
       "            _view_module : 'higlass',\n",
       "            _model_module_version : '0.1.0',\n",
       "            _view_module_version : '0.1.0'\n",
       "        })\n",
       "    });\n",
       "    \n",
       "\n",
       "    // Custom View. Renders the widget model.\n",
       "    var HiGlassDisplayView = widgets.DOMWidgetView.extend({\n",
       "        render: function() {\n",
       "            this.hgdisplay = document.createElement('div');\n",
       "            this.hgdisplay.style.height = this.model.get(\"height\");\n",
       "            this.hgdisplay.style.border = '1px solid black';\n",
       "            this.hgdisplay.style.borderRadius = '1%';\n",
       "            this.hgdisplay.style.borderColor = '#dddddd';\n",
       "            this.hgcontainer = document.createElement('div');\n",
       "            this.hgcontainer.appendChild(this.hgdisplay);\n",
       "            \n",
       "            this.el.appendChild(this.hgcontainer);            \n",
       "\n",
       "            hglib.createHgComponent(\n",
       "                this.hgdisplay,\n",
       "                minimalConfig,\n",
       "                { bounded: true },\n",
       "                function (api) {\n",
       "                    window.hgApi = api;\n",
       "                }\n",
       "            );\n",
       "            \n",
       "            \n",
       "        }\n",
       "    });\n",
       "\n",
       "    return {\n",
       "        HiGlassDisplayModel: HiGlassDisplayModel,\n",
       "        HiGlassDisplayView: HiGlassDisplayView\n",
       "    }\n",
       "    \n",
       "});"
      ],
      "text/plain": [
       "<IPython.core.display.Javascript object>"
      ]
     },
     "metadata": {},
     "output_type": "display_data"
    }
   ],
   "source": [
    "%%javascript\n",
    "\n",
    "\"use strict\";\n",
    "\n",
    "require.config({\n",
    "    paths: {\n",
    "        'react': '//cdnjs.cloudflare.com/ajax/libs/react/15.5.4/react',\n",
    "        'react-dom': '//cdnjs.cloudflare.com/ajax/libs/react/15.5.4/react-dom.min',\n",
    "        'react-bootstrap': '//cdnjs.cloudflare.com/ajax/libs/react-bootstrap/0.31.0/react-bootstrap.min',\n",
    "        'pixi': '//cdnjs.cloudflare.com/ajax/libs/pixi.js/4.5.2/pixi.min',\n",
    "        'hglib': '//unpkg.com/higlass@0.10.6/dist/scripts/hglib'\n",
    "    },\n",
    "    map: {\n",
    "        \"*\": {\n",
    "          \"pixi.js\": \"pixi\"\n",
    "        }\n",
    "    }\n",
    "});\n",
    "\n",
    "define('higlass', [\n",
    "    '@jupyter-widgets/base', \n",
    "    'react',\n",
    "    'react-dom', \n",
    "    'react-bootstrap',\n",
    "    'pixi',\n",
    "    'hglib'], function(widgets, react, react_dom, react_bootstrap, pixi, hglib) {\n",
    "\n",
    "    var minimalConfig = {\n",
    "      \"trackSourceServers\": [\n",
    "        \"http://higlass.io/api/v1\"\n",
    "      ],\n",
    "      \"exportViewUrl\": \"http://higlass.io/api/v1/viewconfs\",\n",
    "      \"editable\": true,\n",
    "      \"zoomFixed\": false,\n",
    "      \"views\": [\n",
    "        {\n",
    "          \"layout\": {\n",
    "            \"w\": 12,\n",
    "            \"h\": 6,\n",
    "            \"x\": 0,\n",
    "            \"y\": 0\n",
    "          },\n",
    "          \"initialXDomain\": [\n",
    "            0,\n",
    "            3000000000\n",
    "          ],\n",
    "          \"initialYDomain\": [\n",
    "            0,\n",
    "            3000000000\n",
    "          ],\n",
    "          \"tracks\": {\n",
    "            \"left\": [],\n",
    "            \"right\": [],\n",
    "            \"top\": [],\n",
    "            \"bottom\": []\n",
    "          } \n",
    "        }\n",
    "      ]\n",
    "    };\n",
    "\n",
    "    var HiGlassDisplayModel = widgets.DOMWidgetModel.extend({\n",
    "        defaults: _.extend(_.result(this, 'widgets.DOMWidgetModel.prototype.defaults'), {\n",
    "            _model_name : 'HiGlassDisplayModel',\n",
    "            _view_name : 'HiGlassDisplayView',\n",
    "            _model_module : 'higlass',\n",
    "            _view_module : 'higlass',\n",
    "            _model_module_version : '0.1.0',\n",
    "            _view_module_version : '0.1.0'\n",
    "        })\n",
    "    });\n",
    "    \n",
    "\n",
    "    // Custom View. Renders the widget model.\n",
    "    var HiGlassDisplayView = widgets.DOMWidgetView.extend({\n",
    "        render: function() {\n",
    "            this.hgdisplay = document.createElement('div');\n",
    "            this.hgdisplay.style.height = this.model.get(\"height\");\n",
    "            this.hgdisplay.style.border = '1px solid black';\n",
    "            this.hgdisplay.style.borderRadius = '1%';\n",
    "            this.hgdisplay.style.borderColor = '#dddddd';\n",
    "            this.hgcontainer = document.createElement('div');\n",
    "            this.hgcontainer.appendChild(this.hgdisplay);\n",
    "            \n",
    "            this.el.appendChild(this.hgcontainer);            \n",
    "\n",
    "            hglib.createHgComponent(\n",
    "                this.hgdisplay,\n",
    "                minimalConfig,\n",
    "                { bounded: true },\n",
    "                function (api) {\n",
    "                    window.hgApi = api;\n",
    "                }\n",
    "            );\n",
    "            \n",
    "        }\n",
    "    });\n",
    "\n",
    "    return {\n",
    "        HiGlassDisplayModel: HiGlassDisplayModel,\n",
    "        HiGlassDisplayView: HiGlassDisplayView\n",
    "    }\n",
    "    \n",
    "});\n"
   ]
  },
  {
   "cell_type": "code",
   "execution_count": 3,
   "metadata": {},
   "outputs": [],
   "source": [
    "import ipywidgets as widgets\n",
    "from ipywidgets.widgets.widget_layout import LayoutTraitType\n",
    "from traitlets import (\n",
    "    Instance, Unicode, List, Dict, Enum, Float, Int, TraitError,\n",
    "    default, validate\n",
    ")\n",
    "\n",
    "class HiGlassDisplay(widgets.DOMWidget):\n",
    "    _view_name = Unicode('HiGlassDisplayView').tag(sync=True)\n",
    "    _model_name = Unicode('HiGlassDisplayModel').tag(sync=True)\n",
    "    _view_module = Unicode('higlass').tag(sync=True)\n",
    "    _model_module = Unicode('higlass').tag(sync=True)\n",
    "    height = Unicode('600px').tag(sync=True)\n",
    "\n",
    "    # @default('layout')\n",
    "    # def _default_layout(self):\n",
    "    #     return widgets.Layout(height='600px', align_self='stretch')\n",
    "\n",
    "    # def set_data(self, js_data):\n",
    "    #     self._model_data = js_data"
   ]
  },
  {
   "cell_type": "code",
   "execution_count": 7,
   "metadata": {},
   "outputs": [
    {
     "data": {
      "application/vnd.jupyter.widget-view+json": {
       "model_id": "08fc5361f1d54382a2b0feeb00b20fcc",
       "version_major": 2,
       "version_minor": 0
      },
      "text/html": [
       "<p>Failed to display Jupyter Widget of type <code>HiGlassDisplay</code>.</p>\n",
       "<p>\n",
       "  If you're reading this message in the Jupyter Notebook or JupyterLab Notebook, it may mean\n",
       "  that the widgets JavaScript is still loading. If this message persists, it\n",
       "  likely means that the widgets JavaScript library is either not installed or\n",
       "  not enabled. See the <a href=\"https://ipywidgets.readthedocs.io/en/stable/user_install.html\">Jupyter\n",
       "  Widgets Documentation</a> for setup instructions.\n",
       "</p>\n",
       "<p>\n",
       "  If you're reading this message in another frontend (for example, a static\n",
       "  rendering on GitHub or <a href=\"https://nbviewer.jupyter.org/\">NBViewer</a>),\n",
       "  it may mean that your frontend doesn't currently support widgets.\n",
       "</p>\n"
      ],
      "text/plain": [
       "HiGlassDisplay()"
      ]
     },
     "metadata": {},
     "output_type": "display_data"
    }
   ],
   "source": [
    "HiGlassDisplay(height='600px')"
   ]
  },
  {
   "cell_type": "code",
   "execution_count": null,
   "metadata": {},
   "outputs": [],
   "source": []
  },
  {
   "cell_type": "code",
   "execution_count": null,
   "metadata": {},
   "outputs": [],
   "source": []
  },
  {
   "cell_type": "code",
   "execution_count": null,
   "metadata": {},
   "outputs": [],
   "source": []
  },
  {
   "cell_type": "code",
   "execution_count": null,
   "metadata": {},
   "outputs": [],
   "source": []
  },
  {
   "cell_type": "code",
   "execution_count": null,
   "metadata": {},
   "outputs": [],
   "source": []
  },
  {
   "cell_type": "code",
   "execution_count": null,
   "metadata": {},
   "outputs": [],
   "source": []
  },
  {
   "cell_type": "code",
   "execution_count": null,
   "metadata": {},
   "outputs": [],
   "source": []
  },
  {
   "cell_type": "code",
   "execution_count": null,
   "metadata": {},
   "outputs": [],
   "source": []
  },
  {
   "cell_type": "code",
   "execution_count": null,
   "metadata": {},
   "outputs": [],
   "source": []
  },
  {
   "cell_type": "code",
   "execution_count": null,
   "metadata": {},
   "outputs": [],
   "source": []
  },
  {
   "cell_type": "code",
   "execution_count": null,
   "metadata": {},
   "outputs": [],
   "source": []
  },
  {
   "cell_type": "code",
   "execution_count": null,
   "metadata": {},
   "outputs": [],
   "source": []
  },
  {
   "cell_type": "code",
   "execution_count": null,
   "metadata": {},
   "outputs": [],
   "source": []
  },
  {
   "cell_type": "code",
   "execution_count": null,
   "metadata": {},
   "outputs": [],
   "source": []
  }
 ],
 "metadata": {
  "kernelspec": {
   "display_name": "Python 3",
   "language": "python",
   "name": "python3"
  },
  "language_info": {
   "codemirror_mode": {
    "name": "ipython",
    "version": 3
   },
   "file_extension": ".py",
   "mimetype": "text/x-python",
   "name": "python",
   "nbconvert_exporter": "python",
   "pygments_lexer": "ipython3",
   "version": "3.6.4"
  }
 },
 "nbformat": 4,
 "nbformat_minor": 2
}
