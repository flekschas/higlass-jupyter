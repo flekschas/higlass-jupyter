{
 "cells": [
  {
   "cell_type": "code",
   "execution_count": 51,
   "metadata": {
    "scrolled": true
   },
   "outputs": [],
   "source": [
    "import json\n",
    "import slugid\n",
    "\n",
    "class HiGlassConfig:\n",
    "\n",
    "    def __init__(self):\n",
    "        self.viewconf = {\n",
    "        'editable': True,\n",
    "        'views': [],\n",
    "          \"trackSourceServers\": [\n",
    "            \"http://higlass.io/api/v1\"\n",
    "          ],\n",
    "          \"exportViewUrl\": \"http://higlass.io/api/v1/viewconfs\"\n",
    "        }\n",
    "        \n",
    "        pass\n",
    "    \n",
    "    def add_view(self, uid=None, \n",
    "                 width=12, \n",
    "                 height=6,\n",
    "                 x=0, y=0):\n",
    "        '''\n",
    "        Add a new view\n",
    "        \n",
    "        Parameters:\n",
    "        -----------\n",
    "        uid: The uid of the view\n",
    "        \n",
    "        Returns:\n",
    "        --------\n",
    "        uid: string\n",
    "            The uid of new view\n",
    "        width: int\n",
    "            The width of this of view on a 12 unit grid\n",
    "        height: int\n",
    "            The height of the this view. The height is proportional\n",
    "            to the height of all the views present.\n",
    "        x: int\n",
    "            The position of this view on the grid\n",
    "        y: int\n",
    "            The position of this view on the grid\n",
    "        '''\n",
    "        if uid is None:\n",
    "            uid = slugid.nice().decode('utf8')\n",
    "            \n",
    "        for view in self.viewconf['views']:\n",
    "            if view['uid'] == uid:\n",
    "                raise ValueError(\"View with this uid already exists\")\n",
    "            \n",
    "        self.viewconf['views'] += [\n",
    "            {\n",
    "                'uid': uid,\n",
    "                'tracks': {\n",
    "                    'top': [],\n",
    "                    'center': [],\n",
    "                    'left': [],\n",
    "                    'right': [],\n",
    "                    'bottom': []\n",
    "                },\n",
    "                \"layout\": {\n",
    "                    \"w\": width,\n",
    "                    \"h\": height,\n",
    "                    \"x\": x,\n",
    "                    \"y\": y\n",
    "                  },\n",
    "            }\n",
    "        ]\n",
    "        \n",
    "        return uid\n",
    "    \n",
    "    def add_track(self, view_uid, track_type, position, server, tileset_uuid):\n",
    "        '''\n",
    "        Add a track to a position.\n",
    "        \n",
    "        Parameters\n",
    "        ----------\n",
    "        view_uid: string\n",
    "            The identifier for the view to add this track to\n",
    "        track_type: string\n",
    "            The type of track to add (e.g. \"heatmap\", \"line\")\n",
    "        position: string\n",
    "            One of 'top', 'bottom', 'center', 'left', 'right'\n",
    "        server: string\n",
    "            The server storing the data for this track\n",
    "        tileset_uuid:\n",
    "            The uuid of the track on the server\n",
    "        '''\n",
    "        selected_view = None\n",
    "        for view in self.viewconf['views']:\n",
    "            if view['uid'] == view_uid:\n",
    "                selected_view = view\n",
    "        \n",
    "        if view is None:\n",
    "            raise ValueError(\"View with specified uid doesn't exist. Try calling add_view({}\".format(view_uid))\n",
    "        \n",
    "        if position not in selected_view['tracks']:\n",
    "            raise ValueError('Track position must be one of:', \n",
    "                             selected_view['tracks'].keys())\n",
    "    \n",
    "        selected_view['tracks'][position] += [{\n",
    "            'server': server,\n",
    "            'tilesetUid': tileset_uuid,\n",
    "            'type': track_type\n",
    "        }]\n",
    "    \n",
    "    def to_json_string(self):\n",
    "        return json.dumps(\n",
    "            self.viewconf\n",
    "        )"
   ]
  },
  {
   "cell_type": "code",
   "execution_count": 54,
   "metadata": {},
   "outputs": [
    {
     "name": "stdout",
     "output_type": "stream",
     "text": [
      "{\"editable\": true, \"views\": [{\"uid\": \"LxTF_y_hRjqs5vCYkdXrwQ\", \"tracks\": {\"top\": [], \"center\": [{\"server\": \"http://higlass.io/api/v1\", \"tilesetUid\": \"CQMd6V_cRw6iCI_-Unl3PQ\", \"type\": \"heatmap\"}], \"left\": [], \"right\": [], \"bottom\": []}, \"layout\": {\"w\": 6, \"h\": 6, \"x\": 0, \"y\": 0}}, {\"uid\": \"L21nvcQIQGGcq0Xt5e-0wg\", \"tracks\": {\"top\": [], \"center\": [], \"left\": [], \"right\": [], \"bottom\": []}, \"layout\": {\"w\": 6, \"h\": 6, \"x\": 6, \"y\": 0}}], \"trackSourceServers\": [\"http://higlass.io/api/v1\"], \"exportViewUrl\": \"http://higlass.io/api/v1/viewconfs\"}\n"
     ]
    }
   ],
   "source": [
    "hgc = HiGlassConfig()\n",
    "view_uid = hgc.add_view(x=0, width=6)\n",
    "hgc.add_track(view_uid, 'heatmap', 'center', 'http://higlass.io/api/v1', 'CQMd6V_cRw6iCI_-Unl3PQ')\n",
    "view2 = hgc.add_view(x=6, width=6)\n",
    "print(hgc.to_json_string())"
   ]
  },
  {
   "cell_type": "code",
   "execution_count": 55,
   "metadata": {},
   "outputs": [
    {
     "data": {
      "application/vnd.jupyter.widget-view+json": {
       "model_id": "7a178d2d4579468299b7c6a78c5cb25e",
       "version_major": 2,
       "version_minor": 0
      },
      "text/plain": [
       "HiGlassDisplay(viewconf='{\"editable\": true, \"views\": [{\"uid\": \"LxTF_y_hRjqs5vCYkdXrwQ\", \"tracks\": {\"top\": [], …"
      ]
     },
     "metadata": {},
     "output_type": "display_data"
    }
   ],
   "source": [
    "minimal_config = {\n",
    "  \"trackSourceServers\": [\n",
    "    \"http://higlass.io/api/v1\"\n",
    "  ],\n",
    "  \"exportViewUrl\": \"http://higlass.io/api/v1/viewconfs\",\n",
    "  \"editable\": \"true\",\n",
    "  \"zoomFixed\": \"false\",\n",
    "  \"views\": [\n",
    "    {\n",
    "      \"layout\": {\n",
    "        \"w\": 12,\n",
    "        \"h\": 6,\n",
    "        \"x\": 0,\n",
    "        \"y\": 0\n",
    "      },\n",
    "      \"initialXDomain\": [\n",
    "        0,\n",
    "        3000000000\n",
    "      ],\n",
    "      \"initialYDomain\": [\n",
    "        0,\n",
    "        3000000000\n",
    "      ],\n",
    "      \"tracks\": {\n",
    "        \"left\": [],\n",
    "        \"right\": [],\n",
    "        \"center\":  [{\n",
    "                \"name\": \"Rao et al. (2014) GM12878 MboI (allreps) 1kb\",\n",
    "                \"server\": \"http://higlass.io/api/v1\",\n",
    "                \"tilesetUid\": \"CQMd6V_cRw6iCI_-Unl3PQ\",\n",
    "                \"type\": \"heatmap\"\n",
    "              }],\n",
    "        \"top\": [],\n",
    "        \"bottom\": []\n",
    "      }\n",
    "    }\n",
    "  ]\n",
    "}\n",
    "\n",
    "import json\n",
    "import jupyter_higlass\n",
    "jupyter_higlass.HiGlassDisplay(viewconf=hgc.to_json_string())"
   ]
  },
  {
   "cell_type": "code",
   "execution_count": null,
   "metadata": {
    "collapsed": true,
    "scrolled": true
   },
   "outputs": [],
   "source": []
  },
  {
   "cell_type": "code",
   "execution_count": null,
   "metadata": {
    "collapsed": true
   },
   "outputs": [],
   "source": []
  }
 ],
 "metadata": {
  "kernelspec": {
   "display_name": "Python 3",
   "language": "python",
   "name": "python3"
  },
  "language_info": {
   "codemirror_mode": {
    "name": "ipython",
    "version": 3
   },
   "file_extension": ".py",
   "mimetype": "text/x-python",
   "name": "python",
   "nbconvert_exporter": "python",
   "pygments_lexer": "ipython3",
   "version": "3.6.1"
  }
 },
 "nbformat": 4,
 "nbformat_minor": 2
}
