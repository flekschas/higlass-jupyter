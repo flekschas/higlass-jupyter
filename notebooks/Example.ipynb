{
 "cells": [
  {
   "cell_type": "code",
   "execution_count": 11,
   "metadata": {},
   "outputs": [
    {
     "name": "stdout",
     "output_type": "stream",
     "text": [
      "{\"editable\": true, \"views\": [{\"initialXDomain\": [0, 3000000000], \"tracks\": {\"top\": [], \"right\": [], \"bottom\": [], \"left\": [], \"center\": [{\"server\": \"http://higlass.io/api/v1\", \"tilesetUid\": \"CQMd6V_cRw6iCI_-Unl3PQ\", \"type\": \"heatmap\"}]}, \"layout\": {\"w\": 12, \"h\": 12, \"x\": 0, \"y\": 0}}]}\n"
     ]
    }
   ],
   "source": [
    "import json\n",
    "\n",
    "class HiGlassConfig:\n",
    "    tracks = {\n",
    "        'top': [],\n",
    "        'right': [],\n",
    "        'bottom': [],\n",
    "        'left': [],\n",
    "        'center': []\n",
    "    }\n",
    "    initialXDomain = [0, 3000000000]\n",
    "    \n",
    "    def __init__(self):\n",
    "        pass\n",
    "    \n",
    "    def add_track(self, track_type, position, server, tileset_uuid):\n",
    "        '''\n",
    "        Add a track to a position.\n",
    "        '''\n",
    "        if position not in self.tracks.keys():\n",
    "            raise ValueError('Track position must be one of:', \n",
    "                             self.tracks.keys())\n",
    "        \n",
    "        self.tracks[position] += [{\n",
    "            'server': server,\n",
    "            'tilesetUid': tileset_uuid,\n",
    "            'type': track_type\n",
    "        }]\n",
    "    \n",
    "    def to_json_string(self):\n",
    "        return json.dumps({\n",
    "            'editable': True,\n",
    "            'views': [{\n",
    "                'initialXDomain': self.initialXDomain,\n",
    "                'tracks': self.tracks,\n",
    "                'layout': {\n",
    "                    'w': 12,\n",
    "                    'h': 12,\n",
    "                    'x': 0,\n",
    "                    'y': 0\n",
    "                },\n",
    "            }]\n",
    "        })\n",
    "\n",
    "hgc = HiGlassConfig()\n",
    "hgc.add_track('heatmap', 'center', 'http://higlass.io/api/v1', 'CQMd6V_cRw6iCI_-Unl3PQ')\n",
    "print(hgc.to_json_string())"
   ]
  },
  {
   "cell_type": "code",
   "execution_count": 12,
   "metadata": {},
   "outputs": [
    {
     "data": {
      "application/vnd.jupyter.widget-view+json": {
       "model_id": "93fe2301d8ff4a33b0b16e3ec61bd9a7",
       "version_major": 2,
       "version_minor": 0
      },
      "text/plain": [
       "HiGlassDisplay(viewconf='{\"editable\": true, \"views\": [{\"initialXDomain\": [0, 3000000000], \"tracks\": {\"top\": []…"
      ]
     },
     "metadata": {},
     "output_type": "display_data"
    }
   ],
   "source": [
    "minimal_config = {\n",
    "  \"trackSourceServers\": [\n",
    "    \"http://higlass.io/api/v1\"\n",
    "  ],\n",
    "  \"exportViewUrl\": \"http://higlass.io/api/v1/viewconfs\",\n",
    "  \"editable\": \"true\",\n",
    "  \"zoomFixed\": \"false\",\n",
    "  \"views\": [\n",
    "    {\n",
    "      \"layout\": {\n",
    "        \"w\": 12,\n",
    "        \"h\": 6,\n",
    "        \"x\": 0,\n",
    "        \"y\": 0\n",
    "      },\n",
    "      \"initialXDomain\": [\n",
    "        0,\n",
    "        3000000000\n",
    "      ],\n",
    "      \"initialYDomain\": [\n",
    "        0,\n",
    "        3000000000\n",
    "      ],\n",
    "      \"tracks\": {\n",
    "        \"left\": [],\n",
    "        \"right\": [],\n",
    "        \"center\":  [{\n",
    "                \"name\": \"Rao et al. (2014) GM12878 MboI (allreps) 1kb\",\n",
    "                \"server\": \"http://higlass.io/api/v1\",\n",
    "                \"tilesetUid\": \"CQMd6V_cRw6iCI_-Unl3PQ\",\n",
    "                \"type\": \"heatmap\"\n",
    "              }],\n",
    "        \"top\": [],\n",
    "        \"bottom\": []\n",
    "      }\n",
    "    }\n",
    "  ]\n",
    "}\n",
    "\n",
    "import json\n",
    "import jupyter_higlass\n",
    "jupyter_higlass.HiGlassDisplay(viewconf=hgc.to_json_string())"
   ]
  },
  {
   "cell_type": "code",
   "execution_count": null,
   "metadata": {
    "collapsed": true,
    "scrolled": true
   },
   "outputs": [],
   "source": []
  },
  {
   "cell_type": "code",
   "execution_count": null,
   "metadata": {
    "collapsed": true
   },
   "outputs": [],
   "source": []
  }
 ],
 "metadata": {
  "kernelspec": {
   "display_name": "Python 3",
   "language": "python",
   "name": "python3"
  },
  "language_info": {
   "codemirror_mode": {
    "name": "ipython",
    "version": 3
   },
   "file_extension": ".py",
   "mimetype": "text/x-python",
   "name": "python",
   "nbconvert_exporter": "python",
   "pygments_lexer": "ipython3",
   "version": "3.6.1"
  }
 },
 "nbformat": 4,
 "nbformat_minor": 2
}
