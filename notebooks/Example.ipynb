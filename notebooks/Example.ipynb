{
 "cells": [
  {
   "cell_type": "code",
   "execution_count": 1,
   "metadata": {},
   "outputs": [],
   "source": [
    "%load_ext autoreload\n",
    "%autoreload 2"
   ]
  },
  {
   "cell_type": "code",
   "execution_count": 2,
   "metadata": {
    "collapsed": true,
    "scrolled": true
   },
   "outputs": [],
   "source": [
    "import json\n",
    "import slugid\n",
    "import hgflask.client as hfc"
   ]
  },
  {
   "cell_type": "code",
   "execution_count": 3,
   "metadata": {},
   "outputs": [
    {
     "name": "stdout",
     "output_type": "stream",
     "text": [
      "{\"editable\": true, \"views\": [{\"uid\": \"QScmPry-R8iZYVv05yWfxQ\", \"tracks\": {\"top\": [], \"center\": [{\"server\": \"http://higlass.io/api/v1\", \"tilesetUid\": \"CQMd6V_cRw6iCI_-Unl3PQ\", \"type\": \"heatmap\"}], \"left\": [], \"right\": [], \"bottom\": []}, \"layout\": {\"w\": 6, \"h\": 6, \"x\": 0, \"y\": 0}}, {\"uid\": \"M4BFzbSuTfGh3FcsbtvjnA\", \"tracks\": {\"top\": [], \"center\": [], \"left\": [], \"right\": [], \"bottom\": []}, \"layout\": {\"w\": 6, \"h\": 6, \"x\": 6, \"y\": 0}}], \"trackSourceServers\": [\"http://higlass.io/api/v1\"], \"exportViewUrl\": \"http://higlass.io/api/v1/viewconfs\"}\n"
     ]
    }
   ],
   "source": [
    "hgc = hfc.HiGlassConfig()\n",
    "view_uid = hgc.add_view(x=0, width=6)\n",
    "hgc.add_track(view_uid, 'heatmap', 'center', 'http://higlass.io/api/v1', 'CQMd6V_cRw6iCI_-Unl3PQ')\n",
    "view2 = hgc.add_view(x=6, width=6)\n",
    "\n",
    "\n",
    "print(hgc.to_json_string())"
   ]
  },
  {
   "cell_type": "code",
   "execution_count": 4,
   "metadata": {},
   "outputs": [
    {
     "data": {
      "application/vnd.jupyter.widget-view+json": {
       "model_id": "074535d9a6844baeb99884e9f72fe9f5",
       "version_major": 2,
       "version_minor": 0
      },
      "text/plain": [
       "A Jupyter Widget"
      ]
     },
     "metadata": {},
     "output_type": "display_data"
    }
   ],
   "source": [
    "minimal_config = {\n",
    "  \"trackSourceServers\": [\n",
    "    \"http://higlass.io/api/v1\"\n",
    "  ],\n",
    "  \"exportViewUrl\": \"http://higlass.io/api/v1/viewconfs\",\n",
    "  \"editable\": \"true\",\n",
    "  \"zoomFixed\": \"false\",\n",
    "  \"views\": [\n",
    "    {\n",
    "      \"layout\": {\n",
    "        \"w\": 12,\n",
    "        \"h\": 6,\n",
    "        \"x\": 0,\n",
    "        \"y\": 0\n",
    "      },\n",
    "      \"initialXDomain\": [\n",
    "        0,\n",
    "        3000000000\n",
    "      ],\n",
    "      \"initialYDomain\": [\n",
    "        0,\n",
    "        3000000000\n",
    "      ],\n",
    "      \"tracks\": {\n",
    "        \"left\": [],\n",
    "        \"right\": [],\n",
    "        \"center\":  [{\n",
    "                \"name\": \"Rao et al. (2014) GM12878 MboI (allreps) 1kb\",\n",
    "                \"server\": \"http://higlass.io/api/v1\",\n",
    "                \"tilesetUid\": \"CQMd6V_cRw6iCI_-Unl3PQ\",\n",
    "                \"type\": \"heatmap\"\n",
    "              }],\n",
    "        \"top\": [],\n",
    "        \"bottom\": []\n",
    "      }\n",
    "    }\n",
    "  ]\n",
    "}\n",
    "\n",
    "import json\n",
    "import jupyter_higlass\n",
    "jupyter_higlass.HiGlassDisplay(viewconf=hgc.to_json_string())"
   ]
  },
  {
   "cell_type": "code",
   "execution_count": null,
   "metadata": {
    "collapsed": true,
    "scrolled": true
   },
   "outputs": [],
   "source": []
  },
  {
   "cell_type": "code",
   "execution_count": null,
   "metadata": {
    "collapsed": true
   },
   "outputs": [],
   "source": []
  }
 ],
 "metadata": {
  "kernelspec": {
   "display_name": "Python 3",
   "language": "python",
   "name": "python3"
  },
  "language_info": {
   "codemirror_mode": {
    "name": "ipython",
    "version": 3
   },
   "file_extension": ".py",
   "mimetype": "text/x-python",
   "name": "python",
   "nbconvert_exporter": "python",
   "pygments_lexer": "ipython3",
   "version": "3.6.2"
  }
 },
 "nbformat": 4,
 "nbformat_minor": 2
}
