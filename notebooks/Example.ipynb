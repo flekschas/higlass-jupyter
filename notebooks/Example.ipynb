{
 "cells": [
  {
   "cell_type": "code",
   "execution_count": 4,
   "metadata": {},
   "outputs": [
    {
     "name": "stdout",
     "output_type": "stream",
     "text": [
      "The autoreload extension is already loaded. To reload it, use:\n",
      "  %reload_ext autoreload\n"
     ]
    }
   ],
   "source": [
    "%load_ext autoreload\n",
    "%autoreload 2"
   ]
  },
  {
   "cell_type": "code",
   "execution_count": 5,
   "metadata": {
    "collapsed": true,
    "scrolled": true
   },
   "outputs": [],
   "source": [
    "import json\n",
    "import slugid\n",
    "import hgflask.client as hfc"
   ]
  },
  {
   "cell_type": "code",
   "execution_count": 6,
   "metadata": {},
   "outputs": [
    {
     "data": {
      "application/javascript": [
       "\n",
       "require([\"https://unpkg.com/higlass-multivec@0.1.10/dist/higlass-multivec\"], \n",
       "    function(hglib) {\n",
       "\n",
       "});"
      ],
      "text/plain": [
       "<IPython.core.display.Javascript object>"
      ]
     },
     "metadata": {},
     "output_type": "display_data"
    }
   ],
   "source": [
    "%%javascript\n",
    "\n",
    "require([\"https://unpkg.com/higlass-multivec@0.1.10/dist/higlass-multivec\"], \n",
    "    function(hglib) {\n",
    "\n",
    "});"
   ]
  },
  {
   "cell_type": "code",
   "execution_count": 7,
   "metadata": {},
   "outputs": [
    {
     "name": "stdout",
     "output_type": "stream",
     "text": [
      "{\"editable\": true, \"views\": [{\"uid\": \"SfPO0xl1T5GwFWuP-f5kkA\", \"tracks\": {\"top\": [], \"center\": [{\"type\": \"heatmap\", \"options\": {}, \"server\": \"http://higlass.io/api/v1\", \"tilesetUid\": \"CQMd6V_cRw6iCI_-Unl3PQ\"}], \"left\": [], \"right\": [], \"bottom\": []}, \"layout\": {\"w\": 12, \"h\": 6, \"x\": 0, \"y\": 0}}], \"trackSourceServers\": [\"http://higlass.io/api/v1\"], \"exportViewUrl\": \"http://higlass.io/api/v1/viewconfs\"}\n"
     ]
    }
   ],
   "source": [
    "\n",
    "hgc = hfc.HiGlassConfig()\n",
    "view = hgc.add_view()\n",
    "view.add_track('heatmap', 'center', \n",
    "               'http://higlass.io/api/v1', \n",
    "               'CQMd6V_cRw6iCI_-Unl3PQ')\n",
    "#view2 = hgc.add_view(x=6, width=6)\n",
    "\n",
    "\n",
    "print(hgc.to_json_string())"
   ]
  },
  {
   "cell_type": "code",
   "execution_count": 8,
   "metadata": {},
   "outputs": [
    {
     "data": {
      "application/vnd.jupyter.widget-view+json": {
       "model_id": "3185716c58224ec286683eb7b797c52b",
       "version_major": 2,
       "version_minor": 0
      },
      "text/plain": [
       "A Jupyter Widget"
      ]
     },
     "metadata": {},
     "output_type": "display_data"
    }
   ],
   "source": [
    "epilogos_config = json.loads(\"\"\"{\n",
    "  \"editable\": true,\n",
    "  \"zoomFixed\": false,\n",
    "  \"trackSourceServers\": [\n",
    "    \"//higlass.io/api/v1\"\n",
    "  ],\n",
    "  \"exportViewUrl\": \"/api/v1/viewconfs\",\n",
    "  \"views\": [\n",
    "    {\n",
    "      \"initialXDomain\": [\n",
    "        2703414654.8520784,\n",
    "        2703446411.492961\n",
    "      ],\n",
    "      \"initialYDomain\": [\n",
    "        1767661966.8457494,\n",
    "        1767680723.3138876\n",
    "      ],\n",
    "      \"tracks\": {\n",
    "        \"top\": [\n",
    "          {\n",
    "            \"type\": \"horizontal-chromosome-labels\",\n",
    "            \"uid\": \"JN_Z7_LgQyKAYPuGiaTTRw\",\n",
    "            \"tilesetUid\": \"ZpZ8c5JJRUS1J7ZkofcUrg\",\n",
    "            \"server\": \"http://resgen.io/api/v1\",\n",
    "            \"options\": {\n",
    "              \"showMousePosition\": false,\n",
    "              \"mousePositionColor\": \"#999999\"\n",
    "            },\n",
    "            \"name\": \"Chromosome Axis\",\n",
    "            \"width\": 793,\n",
    "            \"height\": 30,\n",
    "            \"position\": \"top\"\n",
    "          },\n",
    "          {\n",
    "            \"name\": \"Gene Annotations (hg38)\",\n",
    "            \"created\": \"2017-07-14T15:27:46.989053Z\",\n",
    "            \"server\": \"http://higlass.io/api/v1\",\n",
    "            \"tilesetUid\": \"P0PLbQMwTYGy-5uPIQid7A\",\n",
    "            \"uid\": \"OymzcvoETPCw8R8BTIUolg\",\n",
    "            \"type\": \"horizontal-gene-annotations\",\n",
    "            \"options\": {\n",
    "              \"labelColor\": \"black\",\n",
    "              \"labelPosition\": \"topLeft\",\n",
    "              \"plusStrandColor\": \"blue\",\n",
    "              \"minusStrandColor\": \"red\",\n",
    "              \"trackBorderWidth\": 0,\n",
    "              \"trackBorderColor\": \"black\",\n",
    "              \"showMousePosition\": false,\n",
    "              \"mousePositionColor\": \"#999999\",\n",
    "              \"name\": \"Gene Annotations (hg38)\"\n",
    "            },\n",
    "            \"width\": 20,\n",
    "            \"height\": 55,\n",
    "            \"position\": \"top\"\n",
    "            },\n",
    "          {\n",
    "            \"name\": \"CHESS 2.1 Annotations w/RefSeq (unofficial)\",\n",
    "            \"created\": \"2018-09-11T20:57:28.580647Z\",\n",
    "            \"server\": \"http://higlass.io/api/v1\",\n",
    "            \"tilesetUid\": \"Ye1WXgUlReenTt3yoP9Nxg\",\n",
    "            \"uid\": \"HikHS14aRIeiQYiWgw-cLA\",\n",
    "            \"type\": \"horizontal-gene-annotations\",\n",
    "            \"options\": {\n",
    "              \"labelColor\": \"black\",\n",
    "              \"labelPosition\": \"topLeft\",\n",
    "              \"plusStrandColor\": \"blue\",\n",
    "              \"minusStrandColor\": \"red\",\n",
    "              \"trackBorderWidth\": 0,\n",
    "              \"trackBorderColor\": \"black\",\n",
    "              \"showMousePosition\": false,\n",
    "              \"mousePositionColor\": \"#999999\",\n",
    "              \"name\": \"CHESS 2.1 Annotations w/RefSeq (unofficial)\"\n",
    "            },\n",
    "            \"width\": 793,\n",
    "            \"height\": 55,\n",
    "            \"position\": \"top\",\n",
    "            \"header\": \"\"\n",
    "          },\n",
    "          {\n",
    "            \"type\": \"horizontal-stacked-bar\",\n",
    "            \"uid\": \"EleYy4O8TUigCZqPDxM1zg\",\n",
    "            \"tilesetUid\": \"HMSJyvLCSgGmrDJctdIz3w\",\n",
    "            \"server\": \"http://resgen.io/api/v1\",\n",
    "            \"options\": {\n",
    "              \"labelPosition\": \"topLeft\",\n",
    "              \"labelColor\": \"black\",\n",
    "              \"labelTextOpacity\": 0.4,\n",
    "              \"valueScaling\": \"exponential\",\n",
    "              \"trackBorderWidth\": 0,\n",
    "              \"trackBorderColor\": \"black\",\n",
    "              \"backgroundColor\": \"white\",\n",
    "              \"barBorder\": true,\n",
    "              \"scaledHeight\": false,\n",
    "              \"sortLargestOnTop\": true,\n",
    "              \"colorScale\": [\n",
    "                \"#FF0000\",\n",
    "                \"#FF4500\",\n",
    "                \"#32CD32\",\n",
    "                \"#008000\",\n",
    "                \"#006400\",\n",
    "                \"#C2E105\",\n",
    "                \"#FFFF00\",\n",
    "                \"#66CDAA\",\n",
    "                \"#8A91D0\",\n",
    "                \"#CD5C5C\",\n",
    "                \"#E9967A\",\n",
    "                \"#BDB76B\",\n",
    "                \"#808080\",\n",
    "                \"#C0C0C0\",\n",
    "                \"#FFFFFF\"\n",
    "              ],\n",
    "              \"name\": \"Epilogos (hg38)\"\n",
    "            },\n",
    "            \"width\": 793,\n",
    "            \"height\": 144,\n",
    "            \"position\": \"top\",\n",
    "            \"name\": \"Epilogos (hg38)\",\n",
    "            \"resolutions\": [\n",
    "              13107200,\n",
    "              6553600,\n",
    "              3276800,\n",
    "              1638400,\n",
    "              819200,\n",
    "              409600,\n",
    "              204800,\n",
    "              102400,\n",
    "              51200,\n",
    "              25600,\n",
    "              12800,\n",
    "              6400,\n",
    "              3200,\n",
    "              1600,\n",
    "              800,\n",
    "              400,\n",
    "              200\n",
    "            ]\n",
    "          }\n",
    "        ],\n",
    "        \"left\": [],\n",
    "        \"center\": [],\n",
    "        \"bottom\": [],\n",
    "        \"right\": [],\n",
    "        \"whole\": [],\n",
    "        \"gallery\": []\n",
    "      },\n",
    "      \"layout\": {\n",
    "        \"w\": 12,\n",
    "        \"h\": 6,\n",
    "        \"x\": 0,\n",
    "        \"y\": 0,\n",
    "        \"i\": \"f1NhYdraRJGi-JnlWxeS5g\",\n",
    "        \"moved\": false,\n",
    "        \"static\": false\n",
    "      },\n",
    "      \"uid\": \"f1NhYdraRJGi-JnlWxeS5g\"\n",
    "    }\n",
    "  ],\n",
    "  \"zoomLocks\": {\n",
    "    \"locksByViewUid\": {},\n",
    "    \"locksDict\": {}\n",
    "  },\n",
    "  \"locationLocks\": {\n",
    "    \"locksByViewUid\": {},\n",
    "    \"locksDict\": {}\n",
    "  },\n",
    "  \"valueScaleLocks\": {\n",
    "    \"locksByViewUid\": {},\n",
    "    \"locksDict\": {}\n",
    "  }\n",
    "}\"\"\")\n",
    "\n",
    "import json\n",
    "import jupyter_higlass\n",
    "jupyter_higlass.HiGlassDisplay(viewconf=json.dumps(epilogos_config))"
   ]
  },
  {
   "cell_type": "code",
   "execution_count": 19,
   "metadata": {},
   "outputs": [
    {
     "data": {
      "application/vnd.jupyter.widget-view+json": {
       "model_id": "2ddad97a1dfc4a4f80916ab2ff318e27",
       "version_major": 2,
       "version_minor": 0
      },
      "text/plain": [
       "A Jupyter Widget"
      ]
     },
     "metadata": {},
     "output_type": "display_data"
    }
   ],
   "source": [
    "minimal_config = {\n",
    "  \"trackSourceServers\": [\n",
    "    \"http://higlass.io/api/v1\"\n",
    "  ],\n",
    "  \"exportViewUrl\": \"http://higlass.io/api/v1/viewconfs\",\n",
    "  \"editable\": \"true\",\n",
    "  \"zoomFixed\": \"false\",\n",
    "  \"views\": [\n",
    "    {\n",
    "      \"layout\": {\n",
    "        \"w\": 12,\n",
    "        \"h\": 6,\n",
    "        \"x\": 0,\n",
    "        \"y\": 0\n",
    "      },\n",
    "      \"initialXDomain\": [\n",
    "        0,\n",
    "        3000000000\n",
    "      ],\n",
    "      \"initialYDomain\": [\n",
    "        0,\n",
    "        3000000000\n",
    "      ],\n",
    "      \"tracks\": {\n",
    "        \"left\": [],\n",
    "        \"right\": [],\n",
    "        \"center\":  [{\n",
    "                \"name\": \"Rao et al. (2014) GM12878 MboI (allreps) 1kb\",\n",
    "                \"server\": \"http://higlass.io/api/v1\",\n",
    "                \"tilesetUid\": \"CQMd6V_cRw6iCI_-Unl3PQ\",\n",
    "                \"type\": \"heatmap\"\n",
    "              }],\n",
    "        \"top\": [],\n",
    "        \"bottom\": []\n",
    "      }\n",
    "    }\n",
    "  ]\n",
    "}\n",
    "\n",
    "import json\n",
    "import jupyter_higlass\n",
    "jupyter_higlass.HiGlassDisplay(viewconf=hgc.to_json_string())"
   ]
  },
  {
   "cell_type": "code",
   "execution_count": null,
   "metadata": {
    "collapsed": true
   },
   "outputs": [],
   "source": []
  },
  {
   "cell_type": "code",
   "execution_count": null,
   "metadata": {
    "collapsed": true
   },
   "outputs": [],
   "source": []
  }
 ],
 "metadata": {
  "kernelspec": {
   "display_name": "Python 3",
   "language": "python",
   "name": "python3"
  },
  "language_info": {
   "codemirror_mode": {
    "name": "ipython",
    "version": 3
   },
   "file_extension": ".py",
   "mimetype": "text/x-python",
   "name": "python",
   "nbconvert_exporter": "python",
   "pygments_lexer": "ipython3",
   "version": "3.6.3"
  }
 },
 "nbformat": 4,
 "nbformat_minor": 2
}
